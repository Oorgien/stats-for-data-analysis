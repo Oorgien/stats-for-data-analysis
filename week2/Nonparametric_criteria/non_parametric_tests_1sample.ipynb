{
 "cells": [
  {
   "cell_type": "markdown",
   "metadata": {},
   "source": [
    "# Непараметрические криетрии"
   ]
  },
  {
   "cell_type": "markdown",
   "metadata": {},
   "source": [
    "  Критерий | Одновыборочный | Двухвыборочный | Двухвыборочный (связанные выборки)  \n",
    "  ------------- | -------------|\n",
    "  **Знаков**  | $\\times$ | | $\\times$ \n",
    "  **Ранговый** | $\\times$  | $\\times$ | $\\times$  \n",
    "  **Перестановочный** | $\\times$  | $\\times$ | $\\times$ "
   ]
  },
  {
   "cell_type": "markdown",
   "metadata": {},
   "source": [
    "## Mirrors as potential environmental enrichment for individually housed laboratory mice"
   ]
  },
  {
   "cell_type": "markdown",
   "metadata": {},
   "source": [
    "(Sherwin, 2004): 16 лабораторных мышей были помещены в двухкомнатные клетки, в одной из комнат висело зеркало. С целью установить, есть ли у мышей какие-то предпочтения насчет зеркал, измерялась доля времени, которое каждая мышь проводила в каждой из своих двух клеток."
   ]
  },
  {
   "cell_type": "code",
   "execution_count": 1,
   "metadata": {
    "collapsed": true
   },
   "outputs": [],
   "source": [
    "import numpy as np\n",
    "import pandas as pd\n",
    "import itertools\n",
    "\n",
    "from scipy import stats\n",
    "from statsmodels.stats.descriptivestats import sign_test\n",
    "from statsmodels.stats.weightstats import zconfint"
   ]
  },
  {
   "cell_type": "code",
   "execution_count": 2,
   "metadata": {
    "collapsed": false
   },
   "outputs": [
    {
     "name": "stdout",
     "output_type": "stream",
     "text": [
      "Populating the interactive namespace from numpy and matplotlib\n"
     ]
    }
   ],
   "source": [
    "from matplotlib import pylab"
   ]
  },
  {
   "cell_type": "markdown",
   "metadata": {},
   "source": [
    "### Загрузка данных"
   ]
  },
  {
   "cell_type": "code",
   "execution_count": 8,
   "metadata": {
    "collapsed": true
   },
   "outputs": [],
   "source": [
    "mouses_data = pd.read_csv('mirror_mouses.txt', header = None)\n",
    "mouses_data.columns = ['proportion_of_time']"
   ]
  },
  {
   "cell_type": "code",
   "execution_count": 9,
   "metadata": {
    "collapsed": false
   },
   "outputs": [
    {
     "data": {
      "text/plain": "    proportion_of_time\n0             0.348471\n1             0.640620\n2             0.549818\n3             0.537454\n4             0.400444\n5             0.426292\n6             0.417156\n7             0.477977\n8             0.450657\n9             0.476602\n10            0.488677\n11            0.484741\n12            0.481614\n13            0.489406\n14            0.467365\n15            0.467330",
      "text/html": "<div>\n<style scoped>\n    .dataframe tbody tr th:only-of-type {\n        vertical-align: middle;\n    }\n\n    .dataframe tbody tr th {\n        vertical-align: top;\n    }\n\n    .dataframe thead th {\n        text-align: right;\n    }\n</style>\n<table border=\"1\" class=\"dataframe\">\n  <thead>\n    <tr style=\"text-align: right;\">\n      <th></th>\n      <th>proportion_of_time</th>\n    </tr>\n  </thead>\n  <tbody>\n    <tr>\n      <th>0</th>\n      <td>0.348471</td>\n    </tr>\n    <tr>\n      <th>1</th>\n      <td>0.640620</td>\n    </tr>\n    <tr>\n      <th>2</th>\n      <td>0.549818</td>\n    </tr>\n    <tr>\n      <th>3</th>\n      <td>0.537454</td>\n    </tr>\n    <tr>\n      <th>4</th>\n      <td>0.400444</td>\n    </tr>\n    <tr>\n      <th>5</th>\n      <td>0.426292</td>\n    </tr>\n    <tr>\n      <th>6</th>\n      <td>0.417156</td>\n    </tr>\n    <tr>\n      <th>7</th>\n      <td>0.477977</td>\n    </tr>\n    <tr>\n      <th>8</th>\n      <td>0.450657</td>\n    </tr>\n    <tr>\n      <th>9</th>\n      <td>0.476602</td>\n    </tr>\n    <tr>\n      <th>10</th>\n      <td>0.488677</td>\n    </tr>\n    <tr>\n      <th>11</th>\n      <td>0.484741</td>\n    </tr>\n    <tr>\n      <th>12</th>\n      <td>0.481614</td>\n    </tr>\n    <tr>\n      <th>13</th>\n      <td>0.489406</td>\n    </tr>\n    <tr>\n      <th>14</th>\n      <td>0.467365</td>\n    </tr>\n    <tr>\n      <th>15</th>\n      <td>0.467330</td>\n    </tr>\n  </tbody>\n</table>\n</div>"
     },
     "execution_count": 9,
     "metadata": {},
     "output_type": "execute_result"
    }
   ],
   "source": [
    "mouses_data"
   ]
  },
  {
   "cell_type": "code",
   "execution_count": 10,
   "metadata": {
    "collapsed": false
   },
   "outputs": [
    {
     "data": {
      "text/plain": "       proportion_of_time\ncount           16.000000\nmean             0.475289\nstd              0.066065\nmin              0.348471\n25%              0.444566\n50%              0.477289\n75%              0.488859\nmax              0.640620",
      "text/html": "<div>\n<style scoped>\n    .dataframe tbody tr th:only-of-type {\n        vertical-align: middle;\n    }\n\n    .dataframe tbody tr th {\n        vertical-align: top;\n    }\n\n    .dataframe thead th {\n        text-align: right;\n    }\n</style>\n<table border=\"1\" class=\"dataframe\">\n  <thead>\n    <tr style=\"text-align: right;\">\n      <th></th>\n      <th>proportion_of_time</th>\n    </tr>\n  </thead>\n  <tbody>\n    <tr>\n      <th>count</th>\n      <td>16.000000</td>\n    </tr>\n    <tr>\n      <th>mean</th>\n      <td>0.475289</td>\n    </tr>\n    <tr>\n      <th>std</th>\n      <td>0.066065</td>\n    </tr>\n    <tr>\n      <th>min</th>\n      <td>0.348471</td>\n    </tr>\n    <tr>\n      <th>25%</th>\n      <td>0.444566</td>\n    </tr>\n    <tr>\n      <th>50%</th>\n      <td>0.477289</td>\n    </tr>\n    <tr>\n      <th>75%</th>\n      <td>0.488859</td>\n    </tr>\n    <tr>\n      <th>max</th>\n      <td>0.640620</td>\n    </tr>\n  </tbody>\n</table>\n</div>"
     },
     "execution_count": 10,
     "metadata": {},
     "output_type": "execute_result"
    }
   ],
   "source": [
    "mouses_data.describe()"
   ]
  },
  {
   "cell_type": "code",
   "execution_count": 11,
   "metadata": {
    "collapsed": false
   },
   "outputs": [
    {
     "data": {
      "text/plain": "<Figure size 640x480 with 1 Axes>",
      "image/png": "[encoded data removed]"
     },
     "metadata": {},
     "output_type": "display_data"
    }
   ],
   "source": [
    "pylab.hist(mouses_data.proportion_of_time)\n",
    "pylab.show()"
   ]
  },
  {
   "cell_type": "markdown",
   "metadata": {},
   "source": [
    "## Одновыборочные критерии"
   ]
  },
  {
   "cell_type": "code",
   "execution_count": 12,
   "metadata": {
    "collapsed": false
   },
   "outputs": [
    {
     "name": "stdout",
     "output_type": "stream",
     "text": [
      "95% confidence interval for the mean time: [0.442918, 0.507660]\n"
     ]
    }
   ],
   "source": [
    "print('95%% confidence interval for the mean time: [%f, %f]' % zconfint(mouses_data))"
   ]
  },
  {
   "cell_type": "markdown",
   "metadata": {},
   "source": [
    "### Критерий знаков"
   ]
  },
  {
   "cell_type": "markdown",
   "metadata": {},
   "source": [
    "$H_0\\colon$ медиана доли времени, проведенного в клетке с зеркалом, равна 0.5\n",
    "\n",
    "$H_1\\colon$ медиана доли времени, проведенного в клетке с зеркалом, не равна 0.5"
   ]
  },
  {
   "cell_type": "code",
   "execution_count": 13,
   "metadata": {
    "collapsed": false
   },
   "outputs": [
    {
     "name": "stdout",
     "output_type": "stream",
     "text": [
      "M: -5, p-value: 0.021271\n"
     ]
    }
   ],
   "source": [
    "print(\"M: %d, p-value: %f\" % sign_test(mouses_data, 0.5))"
   ]
  },
  {
   "cell_type": "markdown",
   "metadata": {},
   "source": [
    "### Критерий знаковых рангов Вилкоксона"
   ]
  },
  {
   "cell_type": "code",
   "execution_count": 9,
   "metadata": {
    "collapsed": false
   },
   "outputs": [
    {
     "data": {
      "text/plain": [
       "WilcoxonResult(statistic=35.0, pvalue=0.087935607142362426)"
      ]
     },
     "execution_count": 9,
     "metadata": {},
     "output_type": "execute_result"
    }
   ],
   "source": [
    "m0 = 0.5\n",
    "stats.wilcoxon(mouses_data.proportion_of_time - m0)"
   ]
  },
  {
   "cell_type": "markdown",
   "metadata": {},
   "source": [
    "### Перестановочный критерий"
   ]
  },
  {
   "cell_type": "markdown",
   "metadata": {
    "collapsed": true
   },
   "source": [
    "$H_0\\colon$ среднее равно 0.5\n",
    "\n",
    "$H_1\\colon$ среднее не равно 0.5"
   ]
  },
  {
   "cell_type": "code",
   "execution_count": 18,
   "metadata": {
    "collapsed": false
   },
   "outputs": [],
   "source": [
    "def permutation_t_stat_1sample(sample, mean):\n",
    "    t_stat = sum(list(map(lambda x: x - mean, sample)))\n",
    "    return t_stat"
   ]
  },
  {
   "cell_type": "code",
   "execution_count": 19,
   "metadata": {
    "collapsed": false
   },
   "outputs": [
    {
     "data": {
      "text/plain": "-0.39537769999999994"
     },
     "execution_count": 19,
     "metadata": {},
     "output_type": "execute_result"
    }
   ],
   "source": [
    "permutation_t_stat_1sample(mouses_data.proportion_of_time, 0.5)"
   ]
  },
  {
   "cell_type": "code",
   "execution_count": 41,
   "metadata": {
    "collapsed": true
   },
   "outputs": [],
   "source": [
    "def permutation_zero_distr_1sample(sample, mean, max_permutations = None):\n",
    "    centered_sample = list(map(lambda x: x - mean, sample))\n",
    "    if max_permutations:\n",
    "        signs_array = set([tuple(x) for x in 2 * np.random.randint(2, size = (max_permutations, \n",
    "                                                                              len(sample))) - 1 ])\n",
    "    else:\n",
    "        signs_array =  itertools.product([-1, 1], repeat = len(sample))\n",
    "\n",
    "    distr = [sum(centered_sample * np.array(signs)) for signs in signs_array]\n",
    "    return distr"
   ]
  },
  {
   "cell_type": "code",
   "execution_count": 43,
   "metadata": {
    "collapsed": false
   },
   "outputs": [
    {
     "data": {
      "text/plain": "<Figure size 640x480 with 1 Axes>",
      "image/png": "[encoded data removed]"
     },
     "metadata": {},
     "output_type": "display_data"
    }
   ],
   "source": [
    "pylab.hist(permutation_zero_distr_1sample(mouses_data.proportion_of_time, 0.5, max_permutations=100), bins = 15)\n",
    "pylab.show()"
   ]
  },
  {
   "cell_type": "code",
   "execution_count": 45,
   "metadata": {
    "collapsed": false
   },
   "outputs": [],
   "source": [
    "def permutation_test(sample, mean, max_permutations = None, alternative = 'two-sided'):\n",
    "    if alternative not in ('two-sided', 'less', 'greater'):\n",
    "        raise ValueError(\"alternative not recognized\\n\"\n",
    "                         \"should be 'two-sided', 'less' or 'greater'\")\n",
    "    \n",
    "    t_stat = permutation_t_stat_1sample(sample, mean)\n",
    "    \n",
    "    zero_distr = permutation_zero_distr_1sample(sample, mean, max_permutations)\n",
    "    \n",
    "    if alternative == 'two-sided':\n",
    "        return sum([1. if abs(x) >= abs(t_stat) else 0. for x in zero_distr]) / len(zero_distr)\n",
    "    \n",
    "    if alternative == 'less':\n",
    "        return sum([1. if x <= t_stat else 0. for x in zero_distr]) / len(zero_distr)\n",
    "\n",
    "    if alternative == 'greater':\n",
    "        return sum([1. if x >= t_stat else 0. for x in zero_distr]) / len(zero_distr)"
   ]
  },
  {
   "cell_type": "code",
   "execution_count": 46,
   "metadata": {
    "collapsed": false
   },
   "outputs": [
    {
     "name": "stdout",
     "output_type": "stream",
     "text": [
      "p-value: 0.157776\n"
     ]
    }
   ],
   "source": [
    "print (\"p-value: %f\" % permutation_test(mouses_data.proportion_of_time, 0.5))"
   ]
  },
  {
   "cell_type": "code",
   "execution_count": 62,
   "metadata": {
    "collapsed": false
   },
   "outputs": [
    {
     "name": "stdout",
     "output_type": "stream",
     "text": [
      "p-value: 0.159810\n"
     ]
    }
   ],
   "source": [
    "print (\"p-value: %f\" % permutation_test(mouses_data.proportion_of_time, 0.5, 10000))"
   ]
  }
 ],
 "metadata": {
  "kernelspec": {
   "name": "ml",
   "language": "python",
   "display_name": "ML"
  },
  "language_info": {
   "codemirror_mode": {
    "name": "ipython",
    "version": 2
   },
   "file_extension": ".py",
   "mimetype": "text/x-python",
   "name": "python",
   "nbconvert_exporter": "python",
   "pygments_lexer": "ipython2",
   "version": "2.7.11"
  }
 },
 "nbformat": 4,
 "nbformat_minor": 0
}